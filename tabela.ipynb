{
 "cells": [
  {
   "cell_type": "code",
   "execution_count": 9,
   "metadata": {},
   "outputs": [],
   "source": [
    "import pandas as pd"
   ]
  },
  {
   "cell_type": "code",
   "execution_count": 10,
   "metadata": {},
   "outputs": [
    {
     "data": {
      "text/html": [
       "<div>\n",
       "<style scoped>\n",
       "    .dataframe tbody tr th:only-of-type {\n",
       "        vertical-align: middle;\n",
       "    }\n",
       "\n",
       "    .dataframe tbody tr th {\n",
       "        vertical-align: top;\n",
       "    }\n",
       "\n",
       "    .dataframe thead th {\n",
       "        text-align: right;\n",
       "    }\n",
       "</style>\n",
       "<table border=\"1\" class=\"dataframe\">\n",
       "  <thead>\n",
       "    <tr style=\"text-align: right;\">\n",
       "      <th></th>\n",
       "      <th>SIGLA</th>\n",
       "      <th>DESCRIÇÃO</th>\n",
       "    </tr>\n",
       "  </thead>\n",
       "  <tbody>\n",
       "    <tr>\n",
       "      <th>0</th>\n",
       "      <td>SEMUS</td>\n",
       "      <td>Secretaria Municipal De Saúde</td>\n",
       "    </tr>\n",
       "    <tr>\n",
       "      <th>1</th>\n",
       "      <td>SEMUS-ASCOM</td>\n",
       "      <td>Assessoria De Comunicação Semus</td>\n",
       "    </tr>\n",
       "    <tr>\n",
       "      <th>2</th>\n",
       "      <td>SEMUS-ASSEJUR</td>\n",
       "      <td>Assessoria Jurídica Semus</td>\n",
       "    </tr>\n",
       "    <tr>\n",
       "      <th>3</th>\n",
       "      <td>SEMUS-ASSEJUR-DCC</td>\n",
       "      <td>Divisão De Contratos E Convênios</td>\n",
       "    </tr>\n",
       "    <tr>\n",
       "      <th>4</th>\n",
       "      <td>SEMUS-ASSEJUR-DMP</td>\n",
       "      <td>Demandas Do Ministério Público</td>\n",
       "    </tr>\n",
       "    <tr>\n",
       "      <th>...</th>\n",
       "      <td>...</td>\n",
       "      <td>...</td>\n",
       "    </tr>\n",
       "    <tr>\n",
       "      <th>599</th>\n",
       "      <td>SEMUS-SEADAS-SVES-SVES</td>\n",
       "      <td>Apoio À Superintendência Sves</td>\n",
       "    </tr>\n",
       "    <tr>\n",
       "      <th>600</th>\n",
       "      <td>SEMUS-SEADAS-SVES-VIGIEPI</td>\n",
       "      <td>Coordenação De Vigilância Epidemiológica</td>\n",
       "    </tr>\n",
       "    <tr>\n",
       "      <th>601</th>\n",
       "      <td>SEMUS-SIND</td>\n",
       "      <td>Sindicância Semus</td>\n",
       "    </tr>\n",
       "    <tr>\n",
       "      <th>602</th>\n",
       "      <td>SEMUS-SUPEN</td>\n",
       "      <td>Superintendência De Engenharia E Manutenção</td>\n",
       "    </tr>\n",
       "    <tr>\n",
       "      <th>603</th>\n",
       "      <td>SEMUS-SUPEN-CME</td>\n",
       "      <td>Coordenação De Manutenção De Equipamento</td>\n",
       "    </tr>\n",
       "  </tbody>\n",
       "</table>\n",
       "<p>604 rows × 2 columns</p>\n",
       "</div>"
      ],
      "text/plain": [
       "                         SIGLA                                    DESCRIÇÃO\n",
       "0                        SEMUS                Secretaria Municipal De Saúde\n",
       "1                  SEMUS-ASCOM              Assessoria De Comunicação Semus\n",
       "2                SEMUS-ASSEJUR                    Assessoria Jurídica Semus\n",
       "3            SEMUS-ASSEJUR-DCC             Divisão De Contratos E Convênios\n",
       "4            SEMUS-ASSEJUR-DMP               Demandas Do Ministério Público\n",
       "..                         ...                                          ...\n",
       "599     SEMUS-SEADAS-SVES-SVES                Apoio À Superintendência Sves\n",
       "600  SEMUS-SEADAS-SVES-VIGIEPI     Coordenação De Vigilância Epidemiológica\n",
       "601                 SEMUS-SIND                            Sindicância Semus\n",
       "602                SEMUS-SUPEN  Superintendência De Engenharia E Manutenção\n",
       "603            SEMUS-SUPEN-CME     Coordenação De Manutenção De Equipamento\n",
       "\n",
       "[604 rows x 2 columns]"
      ]
     },
     "execution_count": 10,
     "metadata": {},
     "output_type": "execute_result"
    }
   ],
   "source": [
    "tabela = pd.read_csv(\"semus.csv\", encoding='utf-8', delimiter=\",\")\n",
    "tabela\n"
   ]
  },
  {
   "cell_type": "code",
   "execution_count": null,
   "metadata": {},
   "outputs": [],
   "source": []
  }
 ],
 "metadata": {
  "kernelspec": {
   "display_name": "base",
   "language": "python",
   "name": "python3"
  },
  "language_info": {
   "codemirror_mode": {
    "name": "ipython",
    "version": 3
   },
   "file_extension": ".py",
   "mimetype": "text/x-python",
   "name": "python",
   "nbconvert_exporter": "python",
   "pygments_lexer": "ipython3",
   "version": "3.11.7"
  }
 },
 "nbformat": 4,
 "nbformat_minor": 2
}
